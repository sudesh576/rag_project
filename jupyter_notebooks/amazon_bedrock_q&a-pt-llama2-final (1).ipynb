{
 "cells": [
  {
   "cell_type": "code",
   "execution_count": 1,
   "id": "939409e5",
   "metadata": {},
   "outputs": [
    {
     "name": "stdout",
     "output_type": "stream",
     "text": [
      "Requirement already satisfied: langchain==0.0.354 in /home/ec2-user/anaconda3/envs/python3/lib/python3.10/site-packages (0.0.354)\n",
      "Requirement already satisfied: PyYAML>=5.3 in /home/ec2-user/anaconda3/envs/python3/lib/python3.10/site-packages (from langchain==0.0.354) (6.0.1)\n",
      "Requirement already satisfied: SQLAlchemy<3,>=1.4 in /home/ec2-user/anaconda3/envs/python3/lib/python3.10/site-packages (from langchain==0.0.354) (2.0.22)\n",
      "Requirement already satisfied: aiohttp<4.0.0,>=3.8.3 in /home/ec2-user/anaconda3/envs/python3/lib/python3.10/site-packages (from langchain==0.0.354) (3.8.6)\n",
      "Requirement already satisfied: async-timeout<5.0.0,>=4.0.0 in /home/ec2-user/anaconda3/envs/python3/lib/python3.10/site-packages (from langchain==0.0.354) (4.0.3)\n",
      "Requirement already satisfied: dataclasses-json<0.7,>=0.5.7 in /home/ec2-user/anaconda3/envs/python3/lib/python3.10/site-packages (from langchain==0.0.354) (0.6.3)\n",
      "Requirement already satisfied: jsonpatch<2.0,>=1.33 in /home/ec2-user/anaconda3/envs/python3/lib/python3.10/site-packages (from langchain==0.0.354) (1.33)\n",
      "Requirement already satisfied: langchain-community<0.1,>=0.0.8 in /home/ec2-user/anaconda3/envs/python3/lib/python3.10/site-packages (from langchain==0.0.354) (0.0.16)\n",
      "Requirement already satisfied: langchain-core<0.2,>=0.1.5 in /home/ec2-user/anaconda3/envs/python3/lib/python3.10/site-packages (from langchain==0.0.354) (0.1.17)\n",
      "Requirement already satisfied: langsmith<0.1.0,>=0.0.77 in /home/ec2-user/anaconda3/envs/python3/lib/python3.10/site-packages (from langchain==0.0.354) (0.0.85)\n",
      "Requirement already satisfied: numpy<2,>=1 in /home/ec2-user/anaconda3/envs/python3/lib/python3.10/site-packages (from langchain==0.0.354) (1.22.4)\n",
      "Requirement already satisfied: pydantic<3,>=1 in /home/ec2-user/anaconda3/envs/python3/lib/python3.10/site-packages (from langchain==0.0.354) (1.10.14)\n",
      "Requirement already satisfied: requests<3,>=2 in /home/ec2-user/anaconda3/envs/python3/lib/python3.10/site-packages (from langchain==0.0.354) (2.31.0)\n",
      "Requirement already satisfied: tenacity<9.0.0,>=8.1.0 in /home/ec2-user/anaconda3/envs/python3/lib/python3.10/site-packages (from langchain==0.0.354) (8.2.3)\n",
      "Requirement already satisfied: attrs>=17.3.0 in /home/ec2-user/anaconda3/envs/python3/lib/python3.10/site-packages (from aiohttp<4.0.0,>=3.8.3->langchain==0.0.354) (23.1.0)\n",
      "Requirement already satisfied: charset-normalizer<4.0,>=2.0 in /home/ec2-user/anaconda3/envs/python3/lib/python3.10/site-packages (from aiohttp<4.0.0,>=3.8.3->langchain==0.0.354) (3.3.1)\n",
      "Requirement already satisfied: multidict<7.0,>=4.5 in /home/ec2-user/anaconda3/envs/python3/lib/python3.10/site-packages (from aiohttp<4.0.0,>=3.8.3->langchain==0.0.354) (6.0.4)\n",
      "Requirement already satisfied: yarl<2.0,>=1.0 in /home/ec2-user/anaconda3/envs/python3/lib/python3.10/site-packages (from aiohttp<4.0.0,>=3.8.3->langchain==0.0.354) (1.9.2)\n",
      "Requirement already satisfied: frozenlist>=1.1.1 in /home/ec2-user/anaconda3/envs/python3/lib/python3.10/site-packages (from aiohttp<4.0.0,>=3.8.3->langchain==0.0.354) (1.4.0)\n",
      "Requirement already satisfied: aiosignal>=1.1.2 in /home/ec2-user/anaconda3/envs/python3/lib/python3.10/site-packages (from aiohttp<4.0.0,>=3.8.3->langchain==0.0.354) (1.3.1)\n",
      "Requirement already satisfied: marshmallow<4.0.0,>=3.18.0 in /home/ec2-user/anaconda3/envs/python3/lib/python3.10/site-packages (from dataclasses-json<0.7,>=0.5.7->langchain==0.0.354) (3.20.2)\n",
      "Requirement already satisfied: typing-inspect<1,>=0.4.0 in /home/ec2-user/anaconda3/envs/python3/lib/python3.10/site-packages (from dataclasses-json<0.7,>=0.5.7->langchain==0.0.354) (0.9.0)\n",
      "Requirement already satisfied: jsonpointer>=1.9 in /home/ec2-user/anaconda3/envs/python3/lib/python3.10/site-packages (from jsonpatch<2.0,>=1.33->langchain==0.0.354) (2.4)\n",
      "Requirement already satisfied: anyio<5,>=3 in /home/ec2-user/anaconda3/envs/python3/lib/python3.10/site-packages (from langchain-core<0.2,>=0.1.5->langchain==0.0.354) (4.0.0)\n",
      "Requirement already satisfied: packaging<24.0,>=23.2 in /home/ec2-user/anaconda3/envs/python3/lib/python3.10/site-packages (from langchain-core<0.2,>=0.1.5->langchain==0.0.354) (23.2)\n",
      "Requirement already satisfied: typing-extensions>=4.2.0 in /home/ec2-user/anaconda3/envs/python3/lib/python3.10/site-packages (from pydantic<3,>=1->langchain==0.0.354) (4.8.0)\n",
      "Requirement already satisfied: idna<4,>=2.5 in /home/ec2-user/anaconda3/envs/python3/lib/python3.10/site-packages (from requests<3,>=2->langchain==0.0.354) (3.4)\n",
      "Requirement already satisfied: urllib3<3,>=1.21.1 in /home/ec2-user/anaconda3/envs/python3/lib/python3.10/site-packages (from requests<3,>=2->langchain==0.0.354) (1.26.18)\n",
      "Requirement already satisfied: certifi>=2017.4.17 in /home/ec2-user/anaconda3/envs/python3/lib/python3.10/site-packages (from requests<3,>=2->langchain==0.0.354) (2023.7.22)\n",
      "Requirement already satisfied: greenlet!=0.4.17 in /home/ec2-user/anaconda3/envs/python3/lib/python3.10/site-packages (from SQLAlchemy<3,>=1.4->langchain==0.0.354) (3.0.1)\n",
      "Requirement already satisfied: sniffio>=1.1 in /home/ec2-user/anaconda3/envs/python3/lib/python3.10/site-packages (from anyio<5,>=3->langchain-core<0.2,>=0.1.5->langchain==0.0.354) (1.3.0)\n",
      "Requirement already satisfied: exceptiongroup>=1.0.2 in /home/ec2-user/anaconda3/envs/python3/lib/python3.10/site-packages (from anyio<5,>=3->langchain-core<0.2,>=0.1.5->langchain==0.0.354) (1.1.3)\n",
      "Requirement already satisfied: mypy-extensions>=0.3.0 in /home/ec2-user/anaconda3/envs/python3/lib/python3.10/site-packages (from typing-inspect<1,>=0.4.0->dataclasses-json<0.7,>=0.5.7->langchain==0.0.354) (1.0.0)\n",
      "Requirement already satisfied: pgvector in /home/ec2-user/anaconda3/envs/python3/lib/python3.10/site-packages (0.2.4)\n",
      "Requirement already satisfied: numpy in /home/ec2-user/anaconda3/envs/python3/lib/python3.10/site-packages (from pgvector) (1.22.4)\n"
     ]
    }
   ],
   "source": [
    "!pip install langchain==0.0.354\n",
    "!pip install pgvector"
   ]
  },
  {
   "cell_type": "code",
   "execution_count": 2,
   "id": "92d46047",
   "metadata": {},
   "outputs": [
    {
     "name": "stdout",
     "output_type": "stream",
     "text": [
      "Requirement already satisfied: pypdf in /home/ec2-user/anaconda3/envs/python3/lib/python3.10/site-packages (4.0.1)\r\n"
     ]
    }
   ],
   "source": [
    "!pip install pypdf"
   ]
  },
  {
   "cell_type": "markdown",
   "id": "b8abfbeb",
   "metadata": {},
   "source": [
    "# importing the libraries"
   ]
  },
  {
   "cell_type": "code",
   "execution_count": 3,
   "id": "9701ead6",
   "metadata": {},
   "outputs": [
    {
     "name": "stderr",
     "output_type": "stream",
     "text": [
      "/home/ec2-user/anaconda3/envs/python3/lib/python3.10/site-packages/pandas/core/computation/expressions.py:21: UserWarning: Pandas requires version '2.8.0' or newer of 'numexpr' (version '2.7.3' currently installed).\n",
      "  from pandas.core.computation.check import NUMEXPR_INSTALLED\n"
     ]
    }
   ],
   "source": [
    "import json\n",
    "import os\n",
    "import sys\n",
    "\n",
    "import boto3\n",
    "import pandas as pd\n",
    "import numpy as np\n",
    "from io import StringIO\n",
    "# We will be using the Titan Embeddings Model to generate our Embeddings.\n",
    "from langchain.embeddings import BedrockEmbeddings\n",
    "from langchain.llms.bedrock import Bedrock\n",
    "\n",
    "import numpy as np\n",
    "from langchain.text_splitter import CharacterTextSplitter, RecursiveCharacterTextSplitter\n",
    "from langchain.document_loaders import PyPDFLoader, PyPDFDirectoryLoader\n",
    "from langchain.text_splitter import CharacterTextSplitter, RecursiveCharacterTextSplitter\n",
    "import os\n",
    "import psycopg2\n",
    "from langchain.vectorstores.pgvector import PGVector\n",
    "from langchain_community.vectorstores.pgvector import PGVector\n",
    "import datetime\n"
   ]
  },
  {
   "cell_type": "markdown",
   "id": "8a2c1346",
   "metadata": {},
   "source": [
    "# queries to be asked"
   ]
  },
  {
   "cell_type": "code",
   "execution_count": 4,
   "id": "e5c303b4",
   "metadata": {},
   "outputs": [],
   "source": [
    "# New query list\n",
    "query_list=[\n",
    " \"What is the Intimation date period?\",\n",
    "\"what is Confirmation Date time period?\",\n",
    "\"From when does the credit terms applicable for making the payments?\",\n",
    " \"Who has ownership of materials license?\",\n",
    "\"what about Audit rights?\",\n",
    "\"what is period of Reconciliation of Payments\",\n",
    "\"how much is Term and Termination period?\", \n",
    "\"Which court has jurisdiction over disputes under the agreement?\",\n",
    "\"what is Insurance policy in the agreement?\",\n",
    "\"how much is time period for Shipping Confirmation?\",\n",
    "\"what are Receivables policy?\",\n",
    "\"how much Credit Note time period?\",\n",
    "\"is there any provision for debit note? explain:\",\n",
    "\"who is liable for indirect damages?\",\n",
    "\"are there any provisions or clauses for indemnification?\",\n",
    "\"what about TITLE TO AND RISK OF LOSS OF THE PRODUCTS?\",\n",
    "\"what is Resolution Date time period?\",\n",
    "\"how much time is for Returnable Products?\",\n",
    "\"what is policy for  Product Returns / Returnable Products?\",\n",
    "\"are there any provisions or clauses for Warranties and Covenants?\",\n",
    "\"what is time period for MSME?\",\n",
    "\"what does agreements tells about Denied Tax Credits?\",\n",
    "\"who communicate the format of  Compliant Invoice?\",\n",
    "\"is PO defined in the agreement?\",\n",
    "\"What are the brands mentioned in the agreement?\"\n",
    "]"
   ]
  },
  {
   "cell_type": "code",
   "execution_count": 5,
   "id": "b6828dab",
   "metadata": {},
   "outputs": [],
   "source": [
    "query_list=[\"Which court has jurisdiction over disputes under the agreement?\"]"
   ]
  },
  {
   "cell_type": "markdown",
   "id": "3671db9c",
   "metadata": {},
   "source": [
    "# Combined code for getting output"
   ]
  },
  {
   "cell_type": "code",
   "execution_count": 6,
   "id": "3fc07bf9",
   "metadata": {},
   "outputs": [],
   "source": [
    "# creating the bedrock client\n",
    "bedrock_client = boto3.client('bedrock-runtime',region_name='us-east-1',aws_access_key_id='',aws_secret_access_key='')\n",
    "bedrock_embeddings = BedrockEmbeddings(model_id=\"amazon.titan-embed-text-v1\", client=bedrock_client)\n",
    "\n",
    "\n",
    "# connecting to postgre database\n",
    "DRIVER=os.environ.get(\"PGVECTOR_DRIVER\", \"psycopg2\")\n",
    "HOST=os.environ.get(\"PGVECTOR_HOST\", \"database-1.c5kqyi6ckky7.ap-south-1.rds.amazonaws.com\")\n",
    "PORT=os.environ.get(\"PGVECTOR_PORT\", \"5432\")\n",
    "DATABASE=os.environ.get(\"PGVECTOR_DATABASE\", \"postgres\")\n",
    "USER=os.environ.get(\"PGVECTOR_USER\", \"postgres\")\n",
    "PASSWORD=os.environ.get(\"PGVECTOR_PASSWORD\", \"bedrock123\")\n",
    "\n",
    "\n",
    "conn = psycopg2.connect(dbname=DATABASE,user=USER,host=HOST,password=PASSWORD)\n",
    "cur = conn.cursor()\n",
    "cur.execute('CREATE EXTENSION IF NOT EXISTS vector;')\n",
    "conn.commit()\n",
    "\n",
    "CONNECTION_STRING = PGVector.connection_string_from_db_params(\n",
    "    driver=DRIVER,\n",
    "    host=HOST,\n",
    "    port=PORT,\n",
    "    database=DATABASE,\n",
    "    user=USER,\n",
    "    password=PASSWORD\n",
    ")\n",
    "def split_doc_chunks(document_name):    \n",
    "    loader = PyPDFLoader(document_name)\n",
    "    documents = loader.load()\n",
    "    text_splitter = RecursiveCharacterTextSplitter(\n",
    "        \n",
    "        chunk_size=750,\n",
    "        chunk_overlap=100,\n",
    "    )\n",
    "    docs = text_splitter.split_documents(documents)\n",
    "    return docs\n",
    "def collection(COLLECTION_NAME,docs):\n",
    "    \n",
    "    db = PGVector.from_documents(\n",
    "    embedding=bedrock_embeddings,\n",
    "    documents=docs,\n",
    "    collection_name=COLLECTION_NAME,\n",
    "    connection_string=CONNECTION_STRING)\n",
    "\n",
    "    vectorstore = PGVector(\n",
    "    collection_name=COLLECTION_NAME,\n",
    "    connection_string=CONNECTION_STRING,\n",
    "    embedding_function=bedrock_embeddings,)\n",
    "\n",
    "    return vectorstore\n",
    "\n",
    "def result_query_llama(docs, query,vector_store): \n",
    "\n",
    "    list=vector_store.similarity_search(query, k=7)\n",
    "    \n",
    "    context=\"\"\n",
    "    for i in range(0,len(list)):\n",
    "        text=list[i].page_content\n",
    "        context=context+text\n",
    "    question = query\n",
    "    prompt_data = f\"\"\"Answer the question in one line based only on the information provided in the context.If you don't know the answer, just say that you don't know, don't try to make up an answer.\n",
    "\n",
    "    {context}\n",
    "    #\n",
    "\n",
    "    Question: {question}\n",
    "    Answer:\"\"\"    \n",
    "    \n",
    "    \n",
    "    body = json.dumps({\n",
    "        \"prompt\": prompt_data,\n",
    "        \"max_gen_len\": 256,\n",
    "        \"temperature\": 0,\n",
    "        \"top_p\": 0.1,\n",
    "    })\n",
    "\n",
    "    modelId = 'meta.llama2-13b-chat-v1'\n",
    "    accept = 'application/json'\n",
    "    contentType = 'application/json'\n",
    "\n",
    "    response = bedrock_client.invoke_model(body=body, modelId=modelId, accept=accept, contentType=contentType)\n",
    "\n",
    "    response_body = json.loads(response.get('body').read())\n",
    "    result_answer=response_body.get('generation')\n",
    "    \n",
    "    \n",
    "    print(result_answer)\n",
    "    return result_answer\n",
    "\n",
    "def query_results(docs,vector_store):\n",
    "    ans_list=[]\n",
    "    df=pd.DataFrame(columns=[\"QUERY\",\"ANSWER\"])\n",
    "    for query in query_list:\n",
    "        ans_list.append(result_query_llama(docs, query,vector_store))\n",
    "#         print(datetime.datetime.now())\n",
    "    df[\"QUERY\"]=query_list\n",
    "        \n",
    "    df[\"ANSWER\"]=ans_list\n",
    "    return df\n",
    "\n",
    "def get_results(document_name):\n",
    "    object_name=document_name.split(\".\")[0]+\"llama2\"\n",
    "    docs=split_doc_chunks(document_name)\n",
    "    \n",
    "    vector_store=collection(object_name,docs)\n",
    "#     result_answer=result_query(query)\n",
    "    df=query_results(docs,vector_store)\n",
    "    return df\n",
    "\n"
   ]
  },
  {
   "cell_type": "code",
   "execution_count": 7,
   "id": "87122322",
   "metadata": {},
   "outputs": [],
   "source": [
    "document_name=\"Vendor_Agreement-Good_Luck_Footwears.pdf\""
   ]
  },
  {
   "cell_type": "code",
   "execution_count": 8,
   "id": "c9888556",
   "metadata": {},
   "outputs": [
    {
     "name": "stdout",
     "output_type": "stream",
     "text": [
      " The agreement does not specify which court has jurisdiction over disputes under the agreement.\n"
     ]
    }
   ],
   "source": [
    "df=get_results(document_name)"
   ]
  },
  {
   "cell_type": "markdown",
   "id": "be36d27e",
   "metadata": {},
   "source": [
    "# save to s3 bucket"
   ]
  },
  {
   "cell_type": "code",
   "execution_count": null,
   "id": "0da3c266",
   "metadata": {},
   "outputs": [],
   "source": [
    "output_s3_bucket='test-bucket-pt'\n",
    "output_name=document_name.split(\".\")[0]+\"pt\"+\"_llama2_pt_new1_final\"+\".csv\"\n",
    "\n",
    "# Save output data into s3 in csv format\n",
    "csv_buffer = StringIO()\n",
    "df.to_csv(csv_buffer,index=False)\n",
    "s3_resource = boto3.resource('s3')\n",
    "s3_resource.Object(output_s3_bucket, output_name).put(Body=csv_buffer.getvalue())"
   ]
  },
  {
   "cell_type": "code",
   "execution_count": null,
   "id": "a02b0f66",
   "metadata": {},
   "outputs": [],
   "source": []
  }
 ],
 "metadata": {
  "kernelspec": {
   "display_name": "conda_python3",
   "language": "python",
   "name": "conda_python3"
  },
  "language_info": {
   "codemirror_mode": {
    "name": "ipython",
    "version": 3
   },
   "file_extension": ".py",
   "mimetype": "text/x-python",
   "name": "python",
   "nbconvert_exporter": "python",
   "pygments_lexer": "ipython3",
   "version": "3.10.13"
  }
 },
 "nbformat": 4,
 "nbformat_minor": 5
}
